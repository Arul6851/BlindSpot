{
 "cells": [
  {
   "cell_type": "code",
   "execution_count": 1,
   "id": "be456639",
   "metadata": {},
   "outputs": [
    {
     "name": "stdout",
     "output_type": "stream",
     "text": [
      "Requirement already satisfied: pip in d:\\softwares\\python\\lib\\site-packages (23.2.1)\n"
     ]
    },
    {
     "name": "stderr",
     "output_type": "stream",
     "text": [
      "WARNING: Ignoring invalid distribution -upyter-core (d:\\softwares\\python\\lib\\site-packages)\n",
      "WARNING: Ignoring invalid distribution -upyter-core (d:\\softwares\\python\\lib\\site-packages)\n"
     ]
    },
    {
     "name": "stdout",
     "output_type": "stream",
     "text": [
      "Requirement already satisfied: cvzone in d:\\softwares\\python\\lib\\site-packages (1.6.1)\n",
      "Requirement already satisfied: opencv-python in d:\\softwares\\python\\lib\\site-packages (from cvzone) (4.7.0.72)\n",
      "Requirement already satisfied: numpy in d:\\softwares\\python\\lib\\site-packages (from cvzone) (1.23.4)\n"
     ]
    },
    {
     "name": "stderr",
     "output_type": "stream",
     "text": [
      "WARNING: Ignoring invalid distribution -upyter-core (d:\\softwares\\python\\lib\\site-packages)\n",
      "WARNING: Ignoring invalid distribution -upyter-core (d:\\softwares\\python\\lib\\site-packages)\n"
     ]
    },
    {
     "name": "stdout",
     "output_type": "stream",
     "text": [
      "Requirement already satisfied: serial-tool in d:\\softwares\\python\\lib\\site-packages (0.0.1)\n",
      "Requirement already satisfied: pyserial in d:\\softwares\\python\\lib\\site-packages (from serial-tool) (3.5)\n"
     ]
    },
    {
     "name": "stderr",
     "output_type": "stream",
     "text": [
      "WARNING: Ignoring invalid distribution -upyter-core (d:\\softwares\\python\\lib\\site-packages)\n",
      "WARNING: Ignoring invalid distribution -upyter-core (d:\\softwares\\python\\lib\\site-packages)\n"
     ]
    }
   ],
   "source": [
    "!python.exe -m pip install --upgrade pip\n",
    "!pip install cvzone\n",
    "!pip install serial-tool"
   ]
  },
  {
   "cell_type": "code",
   "execution_count": 2,
   "id": "35469527",
   "metadata": {},
   "outputs": [
    {
     "name": "stdout",
     "output_type": "stream",
     "text": [
      "Attempt 1 of 5 to connect...\n",
      "Serial Device Connected\n"
     ]
    }
   ],
   "source": [
    "from cvzone.ClassificationModule import Classifier\n",
    "from cvzone.SerialModule import SerialObject\n",
    "import cv2\n",
    "\n",
    "arduino = SerialObject('COM5')"
   ]
  },
  {
   "cell_type": "code",
   "execution_count": 3,
   "id": "52502113",
   "metadata": {},
   "outputs": [
    {
     "name": "stdout",
     "output_type": "stream",
     "text": [
      "WARNING:tensorflow:No training configuration found in the save file, so the model was *not* compiled. Compile it manually.\n"
     ]
    },
    {
     "ename": "error",
     "evalue": "OpenCV(4.7.0) D:\\a\\opencv-python\\opencv-python\\opencv\\modules\\imgproc\\src\\resize.cpp:4062: error: (-215:Assertion failed) !ssize.empty() in function 'cv::resize'\n",
     "output_type": "error",
     "traceback": [
      "\u001b[1;31m---------------------------------------------------------------------------\u001b[0m",
      "\u001b[1;31merror\u001b[0m                                     Traceback (most recent call last)",
      "Cell \u001b[1;32mIn [3], line 7\u001b[0m\n\u001b[0;32m      5\u001b[0m \u001b[38;5;28;01mwhile\u001b[39;00m \u001b[38;5;28;01mTrue\u001b[39;00m:\n\u001b[0;32m      6\u001b[0m     _, img \u001b[38;5;241m=\u001b[39m cap\u001b[38;5;241m.\u001b[39mread()  \u001b[38;5;66;03m# Capture frame-by-frame\u001b[39;00m\n\u001b[1;32m----> 7\u001b[0m     prediction \u001b[38;5;241m=\u001b[39m \u001b[43mmaskClassifier\u001b[49m\u001b[38;5;241;43m.\u001b[39;49m\u001b[43mgetPrediction\u001b[49m\u001b[43m(\u001b[49m\u001b[43mimg\u001b[49m\u001b[43m)\u001b[49m\n\u001b[0;32m      8\u001b[0m     \u001b[38;5;28mprint\u001b[39m(prediction)\n\u001b[0;32m      9\u001b[0m     obj \u001b[38;5;241m=\u001b[39m prediction[\u001b[38;5;241m1\u001b[39m]\n",
      "File \u001b[1;32mD:\\Softwares\\Python\\lib\\site-packages\\cvzone\\ClassificationModule.py:56\u001b[0m, in \u001b[0;36mClassifier.getPrediction\u001b[1;34m(self, img, draw, pos, scale, color)\u001b[0m\n\u001b[0;32m     45\u001b[0m \u001b[38;5;124;03m\"\"\"\u001b[39;00m\n\u001b[0;32m     46\u001b[0m \u001b[38;5;124;03mClassifies the image and optionally draws the result on the image.\u001b[39;00m\n\u001b[0;32m     47\u001b[0m \n\u001b[1;32m   (...)\u001b[0m\n\u001b[0;32m     53\u001b[0m \u001b[38;5;124;03m:return: list of predictions, index of the most likely prediction\u001b[39;00m\n\u001b[0;32m     54\u001b[0m \u001b[38;5;124;03m\"\"\"\u001b[39;00m\n\u001b[0;32m     55\u001b[0m \u001b[38;5;66;03m# Resize and normalize the image\u001b[39;00m\n\u001b[1;32m---> 56\u001b[0m imgS \u001b[38;5;241m=\u001b[39m \u001b[43mcv2\u001b[49m\u001b[38;5;241;43m.\u001b[39;49m\u001b[43mresize\u001b[49m\u001b[43m(\u001b[49m\u001b[43mimg\u001b[49m\u001b[43m,\u001b[49m\u001b[43m \u001b[49m\u001b[43m(\u001b[49m\u001b[38;5;241;43m224\u001b[39;49m\u001b[43m,\u001b[49m\u001b[43m \u001b[49m\u001b[38;5;241;43m224\u001b[39;49m\u001b[43m)\u001b[49m\u001b[43m)\u001b[49m\n\u001b[0;32m     57\u001b[0m image_array \u001b[38;5;241m=\u001b[39m np\u001b[38;5;241m.\u001b[39masarray(imgS)\n\u001b[0;32m     58\u001b[0m normalized_image_array \u001b[38;5;241m=\u001b[39m (image_array\u001b[38;5;241m.\u001b[39mastype(np\u001b[38;5;241m.\u001b[39mfloat32) \u001b[38;5;241m/\u001b[39m \u001b[38;5;241m127.0\u001b[39m) \u001b[38;5;241m-\u001b[39m \u001b[38;5;241m1\u001b[39m\n",
      "\u001b[1;31merror\u001b[0m: OpenCV(4.7.0) D:\\a\\opencv-python\\opencv-python\\opencv\\modules\\imgproc\\src\\resize.cpp:4062: error: (-215:Assertion failed) !ssize.empty() in function 'cv::resize'\n"
     ]
    }
   ],
   "source": [
    "cap = cv2.VideoCapture(1)  # Initialize video capture\n",
    "path = \"D:\\DataScience\\preTrainedModels\\converted_keras\"\n",
    "maskClassifier = Classifier(f'{path}/keras_model.h5', f'{path}/labels.txt')\n",
    "\n",
    "while True:\n",
    "    _, img = cap.read()  # Capture frame-by-frame\n",
    "    prediction = maskClassifier.getPrediction(img)\n",
    "    print(prediction)\n",
    "    obj = prediction[1]\n",
    "    value=prediction[0][obj]\n",
    "    arduino.sendData([value,obj])\n",
    "    cv2.imshow(\"Image\", img)\n",
    "    key = cv2.waitKey(1)  # Check every 1 millisecond\n",
    "\n",
    "    # If the 'q' key is pressed, exit the loop\n",
    "    if key == ord('q'):\n",
    "        break\n",
    "\n",
    "# Release the camera and close all OpenCV windows\n",
    "cap.release()\n",
    "cv2.destroyAllWindows()"
   ]
  },
  {
   "cell_type": "code",
   "execution_count": null,
   "id": "2cabb283",
   "metadata": {},
   "outputs": [],
   "source": []
  }
 ],
 "metadata": {
  "kernelspec": {
   "display_name": "BlindWearableKernel",
   "language": "python",
   "name": "blindwearablekernel"
  },
  "language_info": {
   "codemirror_mode": {
    "name": "ipython",
    "version": 3
   },
   "file_extension": ".py",
   "mimetype": "text/x-python",
   "name": "python",
   "nbconvert_exporter": "python",
   "pygments_lexer": "ipython3",
   "version": "3.10.7"
  }
 },
 "nbformat": 4,
 "nbformat_minor": 5
}
